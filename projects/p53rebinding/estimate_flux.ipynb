{
 "cells": [
  {
   "cell_type": "markdown",
   "metadata": {},
   "source": [
    "Estimate the binding fluxes using the methods in Hammes, G. G., Chang, Y.-C., & Oas, T. G. (2009). Conformational selection or induced fit: a flux description of reaction mechanism. Proceedings of the National Academy of Sciences of the United States of America, 106(33), 13737–13741. http://doi.org/10.1073/pnas.0907195106"
   ]
  },
  {
   "cell_type": "code",
   "execution_count": 1,
   "metadata": {
    "collapsed": true
   },
   "outputs": [],
   "source": [
    "def solve_free_protein(mdm2_tot,p53_tot,k_d_w,k_d_t,k_eq_wt,alpha=1.):\n",
    "    k_d_w *= alpha\n",
    "    k_d_t *= alpha\n",
    "    a = 1./k_d_w+k_eq_wt/k_d_t\n",
    "    b = 1.+k_eq_wt-mdm2_tot/k_d_w-k_eq_wt/k_d_t*mdm2_tot+p53_tot/k_d_w+p53_tot*k_eq_wt/k_d_t\n",
    "    c = -(1.+k_eq_wt)*mdm2_tot\n",
    "    #print a,b,c\n",
    "    mdm2_free1 = (-b+(b*b-4.*a*c)**0.5)/(2.*a)\n",
    "    mdm2_free2 = (-b-(b*b-4.*a*c)**0.5)/(2.*a)\n",
    "    return max(mdm2_free1,mdm2_free2)"
   ]
  },
  {
   "cell_type": "code",
   "execution_count": 2,
   "metadata": {
    "collapsed": true
   },
   "outputs": [],
   "source": [
    "def estimate_flux(p53_tot,k_wt,k_d_w,k_d_t,k_on_t,k_on_w,k_wt_l,mdm2_free):\n",
    "\n",
    "    p53_w_unbound = p53_tot/(1+mdm2_free/k_d_w+k_eq_wt+k_eq_wt/k_d_t*mdm2_free)\n",
    "    p53_t_unbound = k_eq_wt*p53_w_unbound\n",
    "    p53_w_bound = p53_w_unbound/k_d_w*mdm2_free\n",
    "    #p53_t_bound = k_eq_wt*p53_w_unbound/k_d_t*mdm2_free\n",
    "\n",
    "    flux_cs = (1/(k_wt*p53_w_unbound)+1/(k_on_t*p53_t_unbound*mdm2_free))**-1\n",
    "    flux_if = (1/(k_on_w*p53_w_unbound*mdm2_free+1/k_wt_l*p53_w_bound))**-1\n",
    "\n",
    "    return flux_cs,flux_if"
   ]
  },
  {
   "cell_type": "markdown",
   "metadata": {},
   "source": [
    "Rates and concentrations from the reference PNAS paper, Figure 3"
   ]
  },
  {
   "cell_type": "code",
   "execution_count": 3,
   "metadata": {
    "collapsed": true
   },
   "outputs": [],
   "source": [
    "#c_p53 = 20e-6\n",
    "#k_d_w = 580./1e8\n",
    "#k_d_t = 0.025/3e4\n",
    "#k_eq_wt = 46./0.005"
   ]
  },
  {
   "cell_type": "markdown",
   "metadata": {},
   "source": [
    "Rates and concentrations from our simulation. Rates are estimated using TPT"
   ]
  },
  {
   "cell_type": "code",
   "execution_count": 4,
   "metadata": {
    "collapsed": true
   },
   "outputs": [],
   "source": [
    "c_p53 = 7.1*10**-3 #Mol\n",
    "c_mdm2 = 7.1*10**-3\n",
    "# k_off_w/k_on_w = k_unfold_bound_to_unfold_unbound/k_unfold_unbound_to_unfold_bound\n",
    "#                = 7.120e+06/1.537e+07\n",
    "k_d_w = 7.120e+06/8.980e+09\n",
    "# k_off_t/k_on_t = k_fold_bound_to_fold_unbound/k_fold_unbound_to_fold_bound\n",
    "#                = 1.704e+06/6.565e+06\n",
    "k_d_t = 1.704e+06/4.709e+10\n",
    "# k_eq_wt = k_w_to_t/k_t_to_w = k_unfold_unbound_to_fold_unbound/k_fold_unbound_to_unfold_unbound\n",
    "#                = 6.145e+05/2.162e+06\n",
    "k_eq_wt = 6.145e+05/2.162e+06\n",
    "#k_on_t = k_fold_unbound_to_fold_bound = 4.709e+10 1/(M*s)\n",
    "k_on_t = 4.709e+10\n",
    "#k_on_w = k_unfold_unbound_to_unfold_bound = 8.980e+09 1/(M*s)\n",
    "k_on_w = 8.980e+09\n",
    "#k_wt_l= k_w_to_t_bound = k_unfold_bound_to_fold_bound = 3.126e+06\n",
    "k_wt_l = 3.126e+06\n",
    "#k_wt = k_w_to_t_unbound = k_unfold_unbound_to_fold_unbound = 6.145e+05\n",
    "k_wt = 6.145e+05"
   ]
  },
  {
   "cell_type": "code",
   "execution_count": 5,
   "metadata": {
    "collapsed": false
   },
   "outputs": [
    {
     "name": "stdout",
     "output_type": "stream",
     "text": [
      "0.000932156612795\n"
     ]
    }
   ],
   "source": [
    "mdm2_free = solve_free_protein(mdm2_tot=c_p53, p53_tot=c_p53,\n",
    "                         k_d_w=k_d_w, k_d_t=k_d_t,\n",
    "                         k_eq_wt=k_eq_wt, alpha=1)\n",
    "print mdm2_free"
   ]
  },
  {
   "cell_type": "code",
   "execution_count": 6,
   "metadata": {
    "collapsed": false
   },
   "outputs": [
    {
     "name": "stdout",
     "output_type": "stream",
     "text": [
      "(425.0972637910741, 6075.920995680314)\n"
     ]
    }
   ],
   "source": [
    "print estimate_flux(p53_tot=c_p53,k_wt=k_wt\n",
    "                    ,k_d_w=k_d_w,k_d_t=k_d_t\n",
    "                    ,k_on_t=k_on_t,k_on_w=k_on_w\n",
    "                    ,k_wt_l=k_wt_l,mdm2_free=mdm2_free)"
   ]
  },
  {
   "cell_type": "markdown",
   "metadata": {},
   "source": [
    "## Fixed the concentration of p53 and vary the concentration of MDM2"
   ]
  },
  {
   "cell_type": "markdown",
   "metadata": {},
   "source": [
    "### p53 concentration = 7.1 mM from our simulation"
   ]
  },
  {
   "cell_type": "code",
   "execution_count": 7,
   "metadata": {
    "collapsed": false
   },
   "outputs": [],
   "source": [
    "import numpy as np\n",
    "\n",
    "concentrations = 10**(np.arange(-7,0,0.1))\n",
    "\n",
    "flux_ratio = []\n",
    "\n",
    "for c_mdm2 in concentrations:\n",
    "    mdm2_free = solve_free_protein(mdm2_tot=c_mdm2, p53_tot=7.1e-3,\n",
    "                         k_d_w=k_d_w, k_d_t=k_d_t,\n",
    "                         k_eq_wt=k_eq_wt, alpha=1)\n",
    "    flux_cs,flux_if = estimate_flux(p53_tot=c_p53,k_wt=k_wt\n",
    "                    ,k_d_w=k_d_w,k_d_t=k_d_t\n",
    "                    ,k_on_t=k_on_t,k_on_w=k_on_w\n",
    "                    ,k_wt_l=k_wt_l,mdm2_free=mdm2_free)\n",
    "    #print \"F_cs:\",flux_cs,\"F_if:\",flux_if,\"F_cs/(F_cs+F_if):\",flux_cs/(flux_cs+flux_if)\n",
    "    flux_ratio.append(flux_cs/(flux_cs+flux_if))\n",
    "    "
   ]
  },
  {
   "cell_type": "markdown",
   "metadata": {},
   "source": [
    "### p53 concentration = 7.1 uM"
   ]
  },
  {
   "cell_type": "code",
   "execution_count": 8,
   "metadata": {
    "collapsed": false
   },
   "outputs": [],
   "source": [
    "flux_ratio1 = []\n",
    "\n",
    "for c_mdm2 in concentrations:\n",
    "    mdm2_free = solve_free_protein(mdm2_tot=c_mdm2, p53_tot=7.1e-6,\n",
    "                         k_d_w=k_d_w, k_d_t=k_d_t,\n",
    "                         k_eq_wt=k_eq_wt, alpha=1)\n",
    "    flux_cs,flux_if = estimate_flux(p53_tot=c_p53,k_wt=k_wt\n",
    "                    ,k_d_w=k_d_w,k_d_t=k_d_t\n",
    "                    ,k_on_t=k_on_t,k_on_w=k_on_w\n",
    "                    ,k_wt_l=k_wt_l,mdm2_free=mdm2_free)\n",
    "    #print \"F_cs:\",flux_cs,\"F_if:\",flux_if,\"F_cs/(F_cs+F_if):\",flux_cs/(flux_cs+flux_if)\n",
    "    flux_ratio1.append(flux_cs/(flux_cs+flux_if))\n",
    "    "
   ]
  },
  {
   "cell_type": "code",
   "execution_count": 9,
   "metadata": {
    "collapsed": true
   },
   "outputs": [],
   "source": [
    "%matplotlib inline"
   ]
  },
  {
   "cell_type": "code",
   "execution_count": 10,
   "metadata": {
    "collapsed": false
   },
   "outputs": [
    {
     "data": {
      "image/png": "[encoded data removed]",
      "text/plain": [
       "<matplotlib.figure.Figure at 0x1058ca050>"
      ]
     },
     "metadata": {},
     "output_type": "display_data"
    }
   ],
   "source": [
    "import matplotlib.pyplot as plt\n",
    "\n",
    "plt.plot(concentrations,flux_ratio)\n",
    "plt.plot(concentrations,flux_ratio1)\n",
    "plt.ylabel(r\"$\\frac{F_{cs}}{F_{cs}+F_{if}}$\",fontsize=25)\n",
    "plt.xlabel(r\"MDM2 concentration (M)\",fontsize=15)\n",
    "params = {'legend.fontsize': 12,\n",
    "          'legend.handlelength': 2}\n",
    "plt.rcParams.update(params)\n",
    "plt.legend([\"p53=7.1 mM\",\"p53=7.1 uM\"],loc='best')\n",
    "plt.xscale('log')\n"
   ]
  },
  {
   "cell_type": "markdown",
   "metadata": {},
   "source": [
    "## Fixed the concentration of MDM2 and vary the concentration of p53"
   ]
  },
  {
   "cell_type": "markdown",
   "metadata": {},
   "source": [
    "### mdm2 = 7.1 mM from simulation"
   ]
  },
  {
   "cell_type": "code",
   "execution_count": 11,
   "metadata": {
    "collapsed": false
   },
   "outputs": [],
   "source": [
    "import numpy as np\n",
    "\n",
    "concentrations = 10**(np.arange(-7,0,0.1))\n",
    "\n",
    "flux_ratio = []\n",
    "\n",
    "for c_p53 in concentrations:\n",
    "    mdm2_free = solve_free_protein(mdm2_tot=7.1e-3, p53_tot=c_p53,\n",
    "                         k_d_w=k_d_w, k_d_t=k_d_t,\n",
    "                         k_eq_wt=k_eq_wt, alpha=1)\n",
    "    flux_cs,flux_if = estimate_flux(p53_tot=c_p53,k_wt=k_wt\n",
    "                    ,k_d_w=k_d_w,k_d_t=k_d_t\n",
    "                    ,k_on_t=k_on_t,k_on_w=k_on_w\n",
    "                    ,k_wt_l=k_wt_l,mdm2_free=mdm2_free)\n",
    "    #print \"F_cs:\",flux_cs,\"F_if:\",flux_if,\"F_cs/(F_cs+F_if):\",flux_cs/(flux_cs+flux_if)\n",
    "    flux_ratio.append(flux_cs/(flux_cs+flux_if))"
   ]
  },
  {
   "cell_type": "markdown",
   "metadata": {},
   "source": [
    "### mdm2 = 7.1 uM "
   ]
  },
  {
   "cell_type": "code",
   "execution_count": 12,
   "metadata": {
    "collapsed": false
   },
   "outputs": [],
   "source": [
    "concentrations = 10**(np.arange(-7,0,0.1))\n",
    "\n",
    "flux_ratio1 = []\n",
    "\n",
    "for c_p53 in concentrations:\n",
    "    mdm2_free = solve_free_protein(mdm2_tot=7.1e-6, p53_tot=c_p53,\n",
    "                         k_d_w=k_d_w, k_d_t=k_d_t,\n",
    "                         k_eq_wt=k_eq_wt, alpha=1)\n",
    "    flux_cs,flux_if = estimate_flux(p53_tot=c_p53,k_wt=k_wt\n",
    "                    ,k_d_w=k_d_w,k_d_t=k_d_t\n",
    "                    ,k_on_t=k_on_t,k_on_w=k_on_w\n",
    "                    ,k_wt_l=k_wt_l,mdm2_free=mdm2_free)\n",
    "    #print \"F_cs:\",flux_cs,\"F_if:\",flux_if,\"F_cs/(F_cs+F_if):\",flux_cs/(flux_cs+flux_if)\n",
    "    flux_ratio1.append(flux_cs/(flux_cs+flux_if))\n"
   ]
  },
  {
   "cell_type": "code",
   "execution_count": 13,
   "metadata": {
    "collapsed": false
   },
   "outputs": [
    {
     "data": {
      "image/png": "[encoded data removed]",
      "text/plain": [
       "<matplotlib.figure.Figure at 0x105972f50>"
      ]
     },
     "metadata": {},
     "output_type": "display_data"
    }
   ],
   "source": [
    "import matplotlib.pyplot as plt\n",
    "\n",
    "plt.plot(concentrations,flux_ratio)\n",
    "plt.plot(concentrations,flux_ratio1)\n",
    "plt.ylabel(r\"$\\frac{F_{cs}}{F_{cs}+F_{if}}$\",fontsize=25)\n",
    "plt.xlabel(r\"p53 concentration (M)\",fontsize=15)\n",
    "params = {'legend.fontsize': 12,\n",
    "          'legend.handlelength': 2}\n",
    "plt.rcParams.update(params)\n",
    "plt.legend([\"MDM2=7.1 mM\",\"MDM2=7.1 uM\"],loc='best')\n",
    "plt.xscale('log')"
   ]
  },
  {
   "cell_type": "code",
   "execution_count": null,
   "metadata": {
    "collapsed": true
   },
   "outputs": [],
   "source": []
  },
  {
   "cell_type": "code",
   "execution_count": null,
   "metadata": {
    "collapsed": true
   },
   "outputs": [],
   "source": []
  }
 ],
 "metadata": {
  "kernelspec": {
   "display_name": "Python 2",
   "language": "python",
   "name": "python2"
  },
  "language_info": {
   "codemirror_mode": {
    "name": "ipython",
    "version": 2
   },
   "file_extension": ".py",
   "mimetype": "text/x-python",
   "name": "python",
   "nbconvert_exporter": "python",
   "pygments_lexer": "ipython2",
   "version": "2.7.11"
  }
 },
 "nbformat": 4,
 "nbformat_minor": 0
}
